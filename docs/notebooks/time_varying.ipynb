{
 "cells": [
  {
   "cell_type": "markdown",
   "metadata": {},
   "source": [
    "# Implementing time-varying covariates\n",
    "\n",
    "In this notebook, we analyse a simulated dataset with time-varying covariates and survival outcomes. `TorchSurv` is used to train a model that predicts relative risk of subjects based on covariates observed over time. We will attempt to thoroughly explain the necessary elements to understand our implementation, but for a detailed read on time-varying survival models refer to Chapter 6 of [Dynamic Regression Models for Survival Data](https://link.springer.com/book/10.1007/0-387-33960-4). For a more brief explanation, please refer to these [slides](https://ms.uky.edu/~mai/sta635/Cox%20model.pdf). Below is a summary of the necessary information."
   ]
  },
  {
   "cell_type": "markdown",
   "metadata": {},
   "source": [
    "### Future project ideas:\n",
    "Future projects can take on various themes: testing edge cases of this implementation, improving the code to become more robust to different data types, include weibull distribution and compare this approate.\n",
    "Testing edge cases:\n",
    "- use the simulated data and change different parameters to see how it affects performance, this can help guide appropriate use\n",
    "- design slightly different simulations known for being difficult or easy in specific scenarios\n",
    "- use a dataset with known properties\n",
    "\n",
    "Improving code to be more robust:\n",
    "- generalising the loss functions and overall defining the formatting required or it to work, generalise for different time scales etc.\n",
    "- extend the method to deal with multiple types of covariates in one loss function or a combination of multiple losses. This can extend to multiple time-varyin covariates and mixing time-invarint and varying ones.\n",
    "\n",
    "Weibull:\n",
    "- Extent the cox loss function to also include the Weibull distribution, this is described for both the log-likelihood and the simulation\n",
    "\n",
    "Comparison\n",
    "- One could compare this approach to other loss functions or statistical model to get an idea of what it brings as a benefit and a challenge. Note this comparison can be done via simulation or some dataset.\n"
   ]
  },
  {
   "cell_type": "markdown",
   "metadata": {},
   "source": [
    "## Partial log likelihood for time-varying covariates\n",
    "\n",
    "### Context and statistical set-up\n",
    "\n",
    "Let $i$ e the index for some subject $i$ with a failute time denoted as $\\tau^*_i$ and $C$ be the censoring time. For the moment $C$ remains constant but there are extensions that allow for $C$ to vary over $i$. Let $\\tau_i = min(\\tau^*_i, C)$. We use $\\delta_i$ to denote whether $\\tau^*_i$ was observed. \n",
    "\n",
    "We will use $Z(t)$ to denote the value of of covariate $Z$ and time $t$. \n",
    "We use $Z(t)$ to denote the value of Z at time $t$ and $\\overline{Z}(t)$ to denote the set of covariates from the beggining up to time $t$: $ \\overline{Z}(t) = \\{ Z(s): 0 \\leq s \\leq t\\}$.\n",
    "Let $t_k$ for $k \\in \\{1, \\dots, K\\} denote the time points at which the covariates are observed. For the moment, we assume that all subjects have been observed on the same time grid. $R_k$ is the set of individuals who are at risk at $t_k$. \n",
    "\n",
    "The conditional hazard function of $T$ given $\\overline{Z}(t)$ is defined as\n",
    "$$ \\lambda(T|\\overline{Z}(t)) = Pr(T \\in [t, t+ dt)|T \\geq t, \\overline{Z}(t)), $$\n",
    "in other words, it is the probability that an event will occur in the next time instance if we have observed covariates up to time $t$ and that a subject has not yet experienced an event.\n",
    "\n",
    "The typical cox proportional hazards model with constant covariates $Z$ assumes a constant hazard ratio: $\\lambda(T|Z)= \\lambda_0(t) exp(\\beta Z)$, where $\\beta$ in an unknown set of regression parameters and $\\lambda_0(t)$ is an unspecified baseline hazard function. In this case $\\frac{\\lambda(T|Z)}{\\lambda_0(t)} = exp(\\beta Z) $. The cumlative hazard ia defined as $\\Lambda(t) = \\int_0^t \\lambda(s)ds$. \n",
    "\n",
    "In a time varying cox model, the hazard ratio is now dependant on time:\n",
    "$$ \\frac{\\lambda(t|Z)}{\\lambda_0(t)} = exp(\\beta Z(t)) $$ \n",
    "and the proportinal hazard model specifies:\n",
    "$$ \\lambda(t|Z) = \\lambda_0(t)exp(\\beta Z(t)) $$\n",
    "\n",
    "Let $i_j$ denote the label or identity of the individual who fails at time $\\tau_j$, including the value of their time-varying covariate\n",
    "during their time in the study $\\{ Z_{i_j}(t): t \\in [0, \\tau_j] \\}$. The partial likelihood is:\n",
    "$$ L (\\beta) = \\prod_j \\Big (\\frac{\\lambda(\\tau_j: Z_i(\\tau_j)))}{\\sum_{l \\in R_i} \\lambda(\\tau_j: Z_l(\\tau_j)))} \\Big),$$\n",
    "in terms of the model form:\n",
    "$$ L (\\beta) = \\prod_j \\Big (\\frac{\\exp(\\beta Z_i(\\tau_j))}{\\sum_{j \\in R_i} \\exp(\\beta Z_i(\\tau_j))} \\Big).$$\n",
    "\n",
    "Taking the log on both sides, we get the partial log-likelihood:\n",
    "$$ \\log L (\\beta) = \\sum_j \\Big (\\beta Z_i(\\tau_j)) - \\log [\\sum_{j \\in R_i} \\exp(\\beta Z_i(\\tau_j))]\\Big ). $$\n",
    "\n",
    "\n",
    "### Extension to neural networks\n",
    "\n",
    "Consider a more genera form, where we have the cox proportional hazards model:\n",
    "$$\\lambda(T|\\overline{Z}(t))= \\lambda_0(t) \\theta(Z(t))$$\n",
    "\n",
    "Additionally, consider some network that maps the input covariates $Z(t)$ to the log relative hazards: $\\log \\theta(Z(t))$.\n",
    "\n",
    "The partial likelihood with repsect to $\\theta(Z(\\tau_j))$ is written as:\n",
    "$$ \\log L(\\theta) = \\sum_j \\Big( \\log \\theta(Z_i(\\tau_j)) - \\log [\\sum_{j \\in R_i} \\theta (Z_i(\\tau_j))] \\Big).$$\n",
    "It onlu considers the covariate values at the time of event or censoring denoted as $\\tau_j$, all prior covariates are not considered.\n",
    "\n",
    "As the output of the network is set to be $\\log \\theta(Z(t))$, the code is written to account for this, to show this explicitly, set $\\phi(Z(t)) = \\log \\theta(Z(t))$ and write the log likelihood in terms oh $phi$:\n",
    "\n",
    "$$ \\log L(\\theta) = \\sum_j \\Big( \\phi(Z_i(\\tau_j)) - \\log [\\sum_{j \\in R_i} \\exp \\phi(Z_i(\\tau_j))] \\Big).$$\n"
   ]
  },
  {
   "cell_type": "markdown",
   "metadata": {},
   "source": [
    "### Dependencies\n",
    "\n",
    "To run this notebook, dependencies must be installed. the recommended method is to use our developpment conda environment (**preffered**). Instruction can be found [here](https://opensource.nibr.com/torchsurv/devnotes.html#set-up-a-development-environment-via-conda) to install all optional dependancies. The other method is to install only required packages using the command line below:"
   ]
  },
  {
   "cell_type": "code",
   "execution_count": 2,
   "metadata": {},
   "outputs": [],
   "source": [
    "# Install only required packages (optional)\n",
    "# %pip install lifelines\n",
    "# %pip install matplotlib\n",
    "# %pip install sklearn\n",
    "# %pip install pandas"
   ]
  },
  {
   "cell_type": "code",
   "execution_count": 2,
   "metadata": {},
   "outputs": [],
   "source": [
    "import warnings\n",
    "\n",
    "warnings.filterwarnings(\"ignore\")"
   ]
  },
  {
   "cell_type": "code",
   "execution_count": 3,
   "metadata": {},
   "outputs": [],
   "source": [
    "import pandas as pd\n",
    "import numpy as np\n",
    "import matplotlib.pyplot as plt\n",
    "import torch\n",
    "import math\n",
    "from torch.utils.data import DataLoader\n",
    "from sklearn.model_selection import train_test_split\n",
    "\n",
    "# Our package\n",
    "#from torchsurv.loss.time_varying import neg_partial_log_likelihood2\n",
    "\n",
    "# PyTorch boilerplate - see https://github.com/Novartis/torchsurv/blob/main/docs/notebooks/helpers_introduction.py\n",
    "from helpers_introduction import Custom_dataset, plot_losses"
   ]
  },
  {
   "cell_type": "markdown",
   "metadata": {},
   "source": [
    "## Simulating realistic data\n",
    "\n",
    "A good approach for simulating data is described in detail by [Ngwa et al 2020](https://pmc.ncbi.nlm.nih.gov/articles/PMC7731987/). If this is not yet implemented, it would be a good way of starting to ensure that both methods work as expected. There are tow parts in simulating such a dataset. First, simulating the longitudina lobservational data and then the survival data. Below we describe methodologies for both.\n",
    "\n",
    "### Longitudinal data (covariates)\n",
    "\n",
    "We use $i \\in \\{1, \\dots, n\\}$ to index subjects and $j \\in \\{1, \\dots, m_i\\}$ to index time points where $m_i$ is the final time point for subject $i$.\n",
    "We simulate covariates independantly:\n",
    "- age at baseline $Age_i \\sim N(35,5)$\n",
    "- sex $\\sim Bernoulli(p=0.54)$\n",
    "\n",
    "Generate expected longitudinal trajectories $\\varphi_{\\beta}(t_{ij})$:\n",
    "\n",
    "$$ \\varphi_{\\beta}(t_{ij}) = b_{i1} + b_{i2} \\cdot t_{ij} + \\alpha Age_i, $$\n",
    "\n",
    "where $b_{i1}, b_{i2}$ are random effects\n",
    "\n",
    "We will generate $b_{i1}, b_{i2}$ from multivariate normal distribution with a covariance matrix $G = [[0.29, -0.00465],[-0.00465, 0.000320]]$. Sample from this multivariate normal distribution (with mean zero) to get the random intercept and slope.\n",
    "\n",
    "The observed longitudinal measures measures $Y_{ij}(t_{ij})$ from a multivariate normal distribution with mean $ \\varphi_{\\beta}(t_{ij})$ and variance $V$:\n",
    "\n",
    "$$ V = Z_i GZ_i ^T + R_i, \\text{ where }Z_i = [[1,1,1,1,1,1]^T, [0,5,10,15,20,25]^T]$$\n",
    "\n",
    "and $R_i = diag(\\sigma^2)$ and $\\sigma^2$ is set to $0.1161$.\n",
    "\n",
    "Note: Compared to the paper, we slightly adjust steps 3 and 4 from the simulation algorithm section (6.1) to avoid fitting a random effects model which adds more complexity in terms of data formatting. "
   ]
  },
  {
   "cell_type": "code",
   "execution_count": 55,
   "metadata": {},
   "outputs": [
    {
     "name": "stdout",
     "output_type": "stream",
     "text": [
      "tensor([[34.2016, 34.2186, 34.2356, 34.2526, 34.2696, 34.2866],\n",
      "        [33.4380, 33.4308, 33.4235, 33.4163, 33.4091, 33.4018],\n",
      "        [31.5581, 31.5565, 31.5548, 31.5531, 31.5515, 31.5498],\n",
      "        [35.7813, 35.7953, 35.8093, 35.8233, 35.8373, 35.8513]])\n"
     ]
    }
   ],
   "source": [
    "import torch.distributions as dist\n",
    "\n",
    "# Set random seed for reproducibility\n",
    "torch.manual_seed(123)\n",
    "\n",
    "n = 100  # Number of subjects\n",
    "T = torch.tensor(6)    # Number of time points\n",
    "time_vec = torch.tensor([0, 1, 2, 3, 4, 5])\n",
    "\n",
    "# Simulation parameters\n",
    "age_mean = 35\n",
    "age_std = 5\n",
    "sex_prob = 0.54\n",
    "G = torch.tensor([[0.29, -0.00465],[-0.00465, 0.000320]])\n",
    "Z = torch.tensor([[1, 1, 1, 1, 1, 1], time_vec], dtype=torch.float32).T\n",
    "sigma = torch.tensor([0.1161])\n",
    "alpha = 1\n",
    "\n",
    "# Simulate age at baseline\n",
    "age_dist = dist.Normal(age_mean, age_std)\n",
    "age = age_dist.sample((n,))\n",
    "\n",
    "# Simulate sex\n",
    "sex_dist = dist.Bernoulli(probs=sex_prob)\n",
    "sex = sex_dist.sample((n,))\n",
    "\n",
    "# Simulate random effects\n",
    "random_effects_dist = dist.MultivariateNormal(torch.zeros(2), G)\n",
    "random_effects = random_effects_dist.sample((n,))\n",
    "\n",
    "# sample random error\n",
    "error_sample = dist.Normal(0, sigma).sample((n,))\n",
    "\n",
    "# Generate expected longitudinal trajectories\n",
    "# quite frakly this is useless now - it was based on my bad understanding of the algorithm\n",
    "trajectories = random_effects[:, 0].unsqueeze(1) + random_effects[:, 1].unsqueeze(1) * Z[:,1] + alpha * age.unsqueeze(1) + error_sample\n",
    "\n",
    "print(trajectories[1:5, :])"
   ]
  },
  {
   "cell_type": "code",
   "execution_count": 1,
   "metadata": {},
   "outputs": [],
   "source": [
    "## ANOTHER WAY OF GENERATING DATA\n",
    "\n",
    "# # Simulate observed longitudinal measures\n",
    "# R = torch.diag_embed(sigma.repeat(T))\n",
    "# V = torch.matmul(torch.matmul(Z, G), Z.T) + R\n",
    "\n",
    "# #get a mean trajectory\n",
    "# b1 = torch.tensor([4.250])\n",
    "# b2 = torch.tensor([0.250])\n",
    "# mean_trajectory =  b1.item() + b2.item() * Z[:,1] + alpha * age_mean\n",
    "\n",
    "# #define the distribution to sample the trajectories from\n",
    "# observed_data_dist = dist.MultivariateNormal(trajectories, V)\n",
    "\n",
    "# #sample from the distribution to get an n x T matrix of observations/covariates\n",
    "# observed_data = observed_data_dist.sample((1,)).squeeze()\n",
    "\n",
    "# print(observed_data[1:5, :])"
   ]
  },
  {
   "cell_type": "markdown",
   "metadata": {},
   "source": [
    "### Survival data (outcomes)\n",
    "\n",
    "here I will describe how to get the survival and censoring for all the subjects from above. then I will code it up in python.\n",
    "\n",
    "Specify (varying) values for the parameter estimates for $Age$, $sex$ and the link parameter $\\gamma$, which measures the strength of the association between the longitudinal measures $Y_{ij}(t_{ij})$ and the time-to-event $\\tau_j$.\n",
    "\n",
    "Let $Q \\sim Unif(0,1)$ be a random variable that determines the hazard of a subject. Then using the time varying cox model it can be expressd as:\n",
    "\n",
    "$$ Q(t;X,Y) = \\exp[-H_0(t)\\cdot \\exp(X^T\\alpha + \\gamma (b_{i1} + b_{i2} \\cdot t))],$$\n",
    "$X^T$ is a vector of tine-invariant covariates, $\\alpha$ a vector of regression coefficients.\n",
    "\n",
    "$H_o(t) = \\lambda t$ and if $h_0(t)>0$ for all $t$, then $H_0$ can be inverted:\n",
    "$$-\\log(Q) = \\lambda t \\cdot \\exp[X^T \\alpha + \\gamma (b_{i1} + b_{i2} \\cdot t) ] $$\n",
    "This expression can be rearranged to generate the times-to-event.\n",
    "\n",
    "Generate the time-to-event $\\tau_j$ using the following equations for the Cox Exponential model:\n",
    "$$ t = \\frac{1}{\\gamma \\cdot b_{i2}} W \\Big( \\frac{-\\gamma(b_{i2}) \\log(Q)}{\\lambda \\exp (X^T \\alpha + \\gamma(b_{i1}))} \\Big). $$\n",
    "\n",
    "Where $W$ is the Lambert W function (LWF) first proposed by [Corless et al. 1996](https://link.springer.com/article/10.1007/BF02124750) provide a history, theory and applications of the LWF. The LWF is the inverse of the function $f(p) = p \\cdot \\exp(p) $.\n",
    "\n",
    "Generate the censoring variable $C \\sim Unif⁡(25, 30)$ for censoring to occur later in study. From the survival and censoring times, we obtain the censoring indicator $\\delta_i$ which is defined as 1 if $\\tau_j < C_i$ and 0 otherwise.\n"
   ]
  },
  {
   "cell_type": "code",
   "execution_count": 5,
   "metadata": {},
   "outputs": [],
   "source": [
    "#import lmbert W function\n",
    "\n",
    "from scipy.special import lambertw"
   ]
  },
  {
   "cell_type": "markdown",
   "metadata": {},
   "source": [
    "Note: pre-determined parameters such as $\\alpha, \\gamma, \\lambda_0$ have a large effect on the event time outcomes, the values used here are:\n",
    "- $\\alpha_{age} = 0.05$,\n",
    "- $\\alpha_{sex} = -0.5$,\n",
    "- $\\gamma = 0.1$,\n",
    "- $\\lambda_0 = 0.05$\n"
   ]
  },
  {
   "cell_type": "code",
   "execution_count": 63,
   "metadata": {},
   "outputs": [
    {
     "data": {
      "text/plain": [
       "tensor([ True, False, False, False,  True,  True,  True,  True,  True,  True,\n",
       "         True,  True,  True,  True,  True, False,  True,  True,  True,  True,\n",
       "         True,  True,  True,  True, False,  True,  True,  True,  True,  True,\n",
       "         True,  True,  True,  True,  True, False,  True,  True,  True, False,\n",
       "        False,  True,  True,  True,  True, False,  True,  True,  True,  True,\n",
       "         True,  True,  True,  True,  True,  True, False,  True,  True,  True,\n",
       "        False,  True, False,  True, False,  True, False, False,  True,  True,\n",
       "         True,  True,  True,  True,  True,  True,  True,  True,  True,  True,\n",
       "         True,  True, False,  True, False,  True,  True,  True,  True,  True,\n",
       "         True,  True,  True,  True,  True,  True,  True, False, False,  True])"
      ]
     },
     "execution_count": 63,
     "metadata": {},
     "output_type": "execute_result"
    }
   ],
   "source": [
    "# Specify the values for parameters, generate the random variables and call on relevant variables defined previously\n",
    "\n",
    "alpha = torch.tensor([0.05, -0.5])  # regression coefficient for time-invariant covariates\n",
    "gamma = torch.tensor(0.3)  # association strength between longitudinal measures and time-to-event\n",
    "lambda_0 = torch.tensor(0.1)  # baseline hazard rate\n",
    "\n",
    "torch.manual_seed(456)\n",
    "\n",
    "# Generate the random variables for hazard of a subject and censoring\n",
    "Q = dist.Uniform(0, 1).sample((n,))  # Random variable for hazard (Q)\n",
    "C = dist.Uniform(3,5.5).sample((n,))  # Random variable for censoring\n",
    "\n",
    "# age and sex are the names of variables corresponding to those covariates\n",
    "# create the X matrix of covariates\n",
    "XX = torch.stack((age, sex), dim=1)\n",
    "\n",
    "# get b1 and b2 from the random sample we made before\n",
    "b1 = random_effects[:, 0]\n",
    "b2 = random_effects[:, 1]\n",
    "\n",
    "# Generate time to event T using the equation above\n",
    "log_Q = torch.log(Q)\n",
    "lambert_W_nominator = gamma*b2*log_Q\n",
    "lambert_W_denominator = torch.exp(alpha@XX.T + gamma*b1)\n",
    "# below should give a vector of length sample_size \n",
    "lambert_W = lambertw(-lambert_W_nominator/(lambda_0*lambert_W_denominator))\n",
    "time_to_event = lambert_W/(gamma*b2)\n",
    "\n",
    "#take the real part of the LBF, the complex part is =0\n",
    "outcome_LWF = time_to_event.real\n",
    "outcome_LWF = torch.floor(outcome_LWF)\n",
    "outcome_LWF\n",
    "\n",
    "# implement censoring with some level of intensity below\n",
    "events = C<5\n",
    "events"
   ]
  },
  {
   "cell_type": "markdown",
   "metadata": {},
   "source": [
    "A simpler method for generating the time-to-event where the covariate is assumed to have a more straightforward relation in time $Z(t) = kt$ for some $k>0$. This approach is sugested by [Peter C. Austin 2012](https://pmc.ncbi.nlm.nih.gov/articles/PMC3546387/pdf/sim0031-3946.pdf) and here \n",
    "$$ t = \\frac{1}{\\gamma k} \\log \\Big ( 1 + \\frac{\\gamma k (-log(u))}{\\lambda \\exp(\\alpha X)}\\Big). $$\n",
    "The above equation has been adapted to remain consistent with the parameters defined before. In our case, $k$ could be replaced with $b_{i2}$ if $b_{i2}$ would be sampled such that it is strictly positive. In the above configuration that is not the case."
   ]
  },
  {
   "cell_type": "markdown",
   "metadata": {},
   "source": [
    "\n",
    "\n",
    "### Data Format\n",
    "\n",
    "Here we create a single matrix of data that corresponds to one covariate being observed over time for some dataset.\n",
    "The time series is padded with zeros so that each subject has the same legth vector, the vector contains their covariate $Z_i(t)$ up until failure time $\\tau_j$ and then values beyond that are zero.\n",
    "\n",
    "In general, prior to fitting a survival model or a network, one should consider ohw to handle missing data beforehand. This is most important for covariates that are missing at event time $\\tau_j $. Data imputation methods can vary depending on the use case but some to consider are:\n",
    "- use the most recent value (assumes step function),\n",
    "- interpolate,\n",
    "- impute based on some model."
   ]
  },
  {
   "cell_type": "markdown",
   "metadata": {},
   "source": [
    "## Training the RNN \n",
    "\n",
    "Below we will give an example set up of how to use the partial log likelihood in a loss function. We import the python file containg the loss and set up an RNN to work with our simulated data."
   ]
  },
  {
   "cell_type": "code",
   "execution_count": 66,
   "metadata": {},
   "outputs": [],
   "source": [
    "from importlib import reload\n",
    "import loss_time_covariates\n",
    "\n",
    "reload(loss_time_covariates)\n",
    "log_likelihood = loss_time_covariates._partial_likelihood_time_cox\n",
    "neg_loss_function = loss_time_covariates.neg_partial_time_log_likelihood"
   ]
  },
  {
   "cell_type": "code",
   "execution_count": 69,
   "metadata": {},
   "outputs": [
    {
     "name": "stdout",
     "output_type": "stream",
     "text": [
      "torch.Size([6, 100, 1])\n",
      "torch.Size([6, 100, 1])\n",
      "torch.Size([2, 100, 1])\n",
      "torch.Size([6, 100, 1])\n"
     ]
    }
   ],
   "source": [
    "#from torchsurv.loss import time_covariates\n",
    "#from torchsurv.metrics.cindex import ConcordanceIndex\n",
    "\n",
    "# Parameters\n",
    "input_size = 1\n",
    "output_size = 1\n",
    "num_layers = 2\n",
    "seq_length = T\n",
    "batch_size = n\n",
    "\n",
    "# Create simple RNN model\n",
    "rnn = torch.nn.RNN(input_size, output_size, num_layers)\n",
    "inputs = torch.randn(seq_length, batch_size, input_size)\n",
    "test = trajectories.T.unsqueeze(2)\n",
    "print(test.shape)\n",
    "print(inputs.shape)\n",
    "\n",
    "#initializa hidden state\n",
    "h0 = torch.randn(num_layers, batch_size, output_size)\n",
    "print(h0.shape)\n",
    "# Forward pass time series input\n",
    "outputs, _ = rnn(test, h0)\n",
    "print(outputs.shape)\n",
    "# estimates = outputs[-1]  # Keep only last predictions, many to one approach\n",
    "# print(estimates.size())  # torch.Size([8, 1])\n",
    "# print(f\"Estimate shape for {batch_size} samples = {estimates.size()}\")  # Estimate shape for 8 samples = torch.Size([8, 1])\n",
    "\n",
    "\n",
    "#loss = neg_loss_function(outputs, events, time)\n",
    "# print(f\"loss = {loss}, has gradient = {loss.requires_grad}\")  # loss = 1.0389232635498047, has gradient = True\n",
    "\n",
    "# cindex = ConcordanceIndex()\n",
    "# print(f\"c-index = {cindex(estimates, events, time)}\")  # c-index = 0.20000000298023224"
   ]
  },
  {
   "cell_type": "markdown",
   "metadata": {},
   "source": [
    "## Comparison to Lifelines package\n",
    "\n",
    "Re-format the simulaiton data to fit a normal time-varying cox model in the lifelines package."
   ]
  },
  {
   "cell_type": "code",
   "execution_count": 64,
   "metadata": {},
   "outputs": [],
   "source": [
    "import pandas as pd\n",
    "\n",
    "# as a reminder covars is the matrix of covariates where a row corresponds to a subject and a column corresponds to their observation at some time \n",
    "# the columns are padded so if a subject experiences an event, the remaining of the column is zero\n",
    "\n",
    "# Generating example torch matrix\n",
    "torch_matrix = trajectories\n",
    "# Convert torch matrix to pandas dataframe\n",
    "\n",
    "#set time to integer\n",
    "max_time = max(time_vec.type(torch.int64))\n",
    "\n",
    "vars = []\n",
    "#times = []\n",
    "start = []\n",
    "stop = []\n",
    "event = []\n",
    "subjs = []\n",
    "for i in range(n):\n",
    "    subj_counter = 0\n",
    "    for j in range(max_time):\n",
    "        if torch_matrix[i,j] == 0:\n",
    "            break\n",
    "        else:\n",
    "            vars.append(torch_matrix[i,j].item())\n",
    "            #times.append(j)\n",
    "            start.append(j-1)\n",
    "            stop.append(j)\n",
    "            event.append(False)\n",
    "            subj_counter += 1\n",
    "    subjs.extend([i] * subj_counter)\n",
    "    if events[i]==True: event[-1]=True\n",
    "\n",
    "df = pd.DataFrame({\n",
    "    \"subj\": subjs,\n",
    "    #\"times\": times,\n",
    "    \"start\":start,\n",
    "    \"stop\": stop,\n",
    "    \"events\": event,\n",
    "    \"var\": vars, \n",
    "})\n"
   ]
  },
  {
   "cell_type": "markdown",
   "metadata": {},
   "source": [
    "Fitting a cox regression model using the lifelines package.\n"
   ]
  },
  {
   "cell_type": "code",
   "execution_count": 65,
   "metadata": {},
   "outputs": [
    {
     "name": "stdout",
     "output_type": "stream",
     "text": [
      "Iteration 1: norm_delta = 5.88e-02, step_size = 0.9500, log_lik = -324.39949, newton_decrement = 2.39e-01, seconds_since_start = 0.0\n",
      "Iteration 2: norm_delta = 2.77e-03, step_size = 0.9500, log_lik = -324.16177, newton_decrement = 5.30e-04, seconds_since_start = 0.0\n",
      "Iteration 3: norm_delta = 1.38e-04, step_size = 0.9500, log_lik = -324.16124, newton_decrement = 1.32e-06, seconds_since_start = 0.0\n",
      "Iteration 4: norm_delta = 7.26e-06, step_size = 1.0000, log_lik = -324.16124, newton_decrement = 3.30e-09, seconds_since_start = 0.0\n",
      "Convergence completed after 4 iterations.\n"
     ]
    },
    {
     "data": {
      "text/html": [
       "<div>\n",
       "<style scoped>\n",
       "    .dataframe tbody tr th:only-of-type {\n",
       "        vertical-align: middle;\n",
       "    }\n",
       "\n",
       "    .dataframe tbody tr th {\n",
       "        vertical-align: top;\n",
       "    }\n",
       "\n",
       "    .dataframe thead th {\n",
       "        text-align: right;\n",
       "    }\n",
       "</style>\n",
       "<table border=\"1\" class=\"dataframe\">\n",
       "  <tbody>\n",
       "    <tr>\n",
       "      <th>model</th>\n",
       "      <td>lifelines.CoxTimeVaryingFitter</td>\n",
       "    </tr>\n",
       "    <tr>\n",
       "      <th>event col</th>\n",
       "      <td>'events'</td>\n",
       "    </tr>\n",
       "    <tr>\n",
       "      <th>penalizer</th>\n",
       "      <td>0.1</td>\n",
       "    </tr>\n",
       "    <tr>\n",
       "      <th>number of subjects</th>\n",
       "      <td>100</td>\n",
       "    </tr>\n",
       "    <tr>\n",
       "      <th>number of periods</th>\n",
       "      <td>500</td>\n",
       "    </tr>\n",
       "    <tr>\n",
       "      <th>number of events</th>\n",
       "      <td>81</td>\n",
       "    </tr>\n",
       "    <tr>\n",
       "      <th>partial log-likelihood</th>\n",
       "      <td>-324.16</td>\n",
       "    </tr>\n",
       "    <tr>\n",
       "      <th>time fit was run</th>\n",
       "      <td>2025-01-03 19:18:44 UTC</td>\n",
       "    </tr>\n",
       "  </tbody>\n",
       "</table>\n",
       "</div><table border=\"1\" class=\"dataframe\">\n",
       "  <thead>\n",
       "    <tr style=\"text-align: right;\">\n",
       "      <th style=\"min-width: 12px;\"></th>\n",
       "      <th style=\"min-width: 12px;\">coef</th>\n",
       "      <th style=\"min-width: 12px;\">exp(coef)</th>\n",
       "      <th style=\"min-width: 12px;\">se(coef)</th>\n",
       "      <th style=\"min-width: 12px;\">coef lower 95%</th>\n",
       "      <th style=\"min-width: 12px;\">coef upper 95%</th>\n",
       "      <th style=\"min-width: 12px;\">exp(coef) lower 95%</th>\n",
       "      <th style=\"min-width: 12px;\">exp(coef) upper 95%</th>\n",
       "      <th style=\"min-width: 12px;\">cmp to</th>\n",
       "      <th style=\"min-width: 12px;\">z</th>\n",
       "      <th style=\"min-width: 12px;\">p</th>\n",
       "      <th style=\"min-width: 12px;\">-log2(p)</th>\n",
       "    </tr>\n",
       "  </thead>\n",
       "  <tbody>\n",
       "    <tr>\n",
       "      <th>var</th>\n",
       "      <td>-0.01</td>\n",
       "      <td>0.99</td>\n",
       "      <td>0.02</td>\n",
       "      <td>-0.05</td>\n",
       "      <td>0.02</td>\n",
       "      <td>0.95</td>\n",
       "      <td>1.02</td>\n",
       "      <td>0.00</td>\n",
       "      <td>-0.69</td>\n",
       "      <td>0.49</td>\n",
       "      <td>1.03</td>\n",
       "    </tr>\n",
       "  </tbody>\n",
       "</table><br><div>\n",
       "<style scoped>\n",
       "    .dataframe tbody tr th:only-of-type {\n",
       "        vertical-align: middle;\n",
       "    }\n",
       "\n",
       "    .dataframe tbody tr th {\n",
       "        vertical-align: top;\n",
       "    }\n",
       "\n",
       "    .dataframe thead th {\n",
       "        text-align: right;\n",
       "    }\n",
       "</style>\n",
       "<table border=\"1\" class=\"dataframe\">\n",
       "  <tbody>\n",
       "    <tr>\n",
       "      <th>Partial AIC</th>\n",
       "      <td>650.32</td>\n",
       "    </tr>\n",
       "    <tr>\n",
       "      <th>log-likelihood ratio test</th>\n",
       "      <td>0.48 on 1 df</td>\n",
       "    </tr>\n",
       "    <tr>\n",
       "      <th>-log2(p) of ll-ratio test</th>\n",
       "      <td>1.03</td>\n",
       "    </tr>\n",
       "  </tbody>\n",
       "</table>\n",
       "</div>"
      ],
      "text/latex": [
       "\\begin{tabular}{lrrrrrrrrrrr}\n",
       " & coef & exp(coef) & se(coef) & coef lower 95% & coef upper 95% & exp(coef) lower 95% & exp(coef) upper 95% & cmp to & z & p & -log2(p) \\\\\n",
       "covariate &  &  &  &  &  &  &  &  &  &  &  \\\\\n",
       "var & -0.01 & 0.99 & 0.02 & -0.05 & 0.02 & 0.95 & 1.02 & 0.00 & -0.69 & 0.49 & 1.03 \\\\\n",
       "\\end{tabular}\n"
      ],
      "text/plain": [
       "<lifelines.CoxTimeVaryingFitter: fitted with 500 periods, 100 subjects, 81 events>\n",
       "         event col = 'events'\n",
       "         penalizer = 0.1\n",
       "number of subjects = 100\n",
       " number of periods = 500\n",
       "  number of events = 81\n",
       "partial log-likelihood = -324.16\n",
       "  time fit was run = 2025-01-03 19:18:44 UTC\n",
       "\n",
       "---\n",
       "           coef exp(coef)  se(coef)  coef lower 95%  coef upper 95% exp(coef) lower 95% exp(coef) upper 95%\n",
       "covariate                                                                                                  \n",
       "var       -0.01      0.99      0.02           -0.05            0.02                0.95                1.02\n",
       "\n",
       "           cmp to     z    p  -log2(p)\n",
       "covariate                             \n",
       "var          0.00 -0.69 0.49      1.03\n",
       "---\n",
       "Partial AIC = 650.32\n",
       "log-likelihood ratio test = 0.48 on 1 df\n",
       "-log2(p) of ll-ratio test = 1.03"
      ]
     },
     "metadata": {},
     "output_type": "display_data"
    },
    {
     "data": {
      "text/plain": [
       "<Axes: xlabel='log(HR) (95% CI)'>"
      ]
     },
     "execution_count": 65,
     "metadata": {},
     "output_type": "execute_result"
    },
    {
     "data": {
      "image/png": "[encoded data removed]",
      "text/plain": [
       "<Figure size 640x480 with 1 Axes>"
      ]
     },
     "metadata": {},
     "output_type": "display_data"
    }
   ],
   "source": [
    "from lifelines import CoxTimeVaryingFitter\n",
    "\n",
    "ctv = CoxTimeVaryingFitter(penalizer=0.1)\n",
    "ctv.fit(df, id_col=\"subj\", event_col=\"events\", start_col=\"start\", stop_col=\"stop\", show_progress=True)\n",
    "ctv.print_summary()\n",
    "ctv.plot()"
   ]
  },
  {
   "cell_type": "markdown",
   "metadata": {},
   "source": [
    "## Testing it on the lifelines dataset\n",
    "\n",
    "This is to demonstrate the method with a neural network, example inspired by the [lifelines example](https://lifelines.readthedocs.io/en/latest/Time%20varying%20survival%20regression.html#).\n",
    "\n",
    "This is a classic dataset for survival regression with time varying covariates. The original dataset is from J Crowley and M Hu. 'Covariance analysis of heart transplant survival data', and this dataset is from R’s survival library.\n"
   ]
  },
  {
   "cell_type": "code",
   "execution_count": 12,
   "metadata": {},
   "outputs": [
    {
     "data": {
      "text/html": [
       "<div>\n",
       "<style scoped>\n",
       "    .dataframe tbody tr th:only-of-type {\n",
       "        vertical-align: middle;\n",
       "    }\n",
       "\n",
       "    .dataframe tbody tr th {\n",
       "        vertical-align: top;\n",
       "    }\n",
       "\n",
       "    .dataframe thead th {\n",
       "        text-align: right;\n",
       "    }\n",
       "</style>\n",
       "<table border=\"1\" class=\"dataframe\">\n",
       "  <thead>\n",
       "    <tr style=\"text-align: right;\">\n",
       "      <th></th>\n",
       "      <th>start</th>\n",
       "      <th>stop</th>\n",
       "      <th>event</th>\n",
       "      <th>age</th>\n",
       "      <th>year</th>\n",
       "      <th>surgery</th>\n",
       "      <th>transplant</th>\n",
       "      <th>id</th>\n",
       "    </tr>\n",
       "  </thead>\n",
       "  <tbody>\n",
       "    <tr>\n",
       "      <th>0</th>\n",
       "      <td>0.0</td>\n",
       "      <td>50.0</td>\n",
       "      <td>1</td>\n",
       "      <td>-17.155373</td>\n",
       "      <td>0.123203</td>\n",
       "      <td>0</td>\n",
       "      <td>0</td>\n",
       "      <td>1</td>\n",
       "    </tr>\n",
       "    <tr>\n",
       "      <th>1</th>\n",
       "      <td>0.0</td>\n",
       "      <td>6.0</td>\n",
       "      <td>1</td>\n",
       "      <td>3.835729</td>\n",
       "      <td>0.254620</td>\n",
       "      <td>0</td>\n",
       "      <td>0</td>\n",
       "      <td>2</td>\n",
       "    </tr>\n",
       "    <tr>\n",
       "      <th>2</th>\n",
       "      <td>0.0</td>\n",
       "      <td>1.0</td>\n",
       "      <td>0</td>\n",
       "      <td>6.297057</td>\n",
       "      <td>0.265572</td>\n",
       "      <td>0</td>\n",
       "      <td>0</td>\n",
       "      <td>3</td>\n",
       "    </tr>\n",
       "    <tr>\n",
       "      <th>3</th>\n",
       "      <td>1.0</td>\n",
       "      <td>16.0</td>\n",
       "      <td>1</td>\n",
       "      <td>6.297057</td>\n",
       "      <td>0.265572</td>\n",
       "      <td>0</td>\n",
       "      <td>1</td>\n",
       "      <td>3</td>\n",
       "    </tr>\n",
       "    <tr>\n",
       "      <th>4</th>\n",
       "      <td>0.0</td>\n",
       "      <td>36.0</td>\n",
       "      <td>0</td>\n",
       "      <td>-7.737166</td>\n",
       "      <td>0.490075</td>\n",
       "      <td>0</td>\n",
       "      <td>0</td>\n",
       "      <td>4</td>\n",
       "    </tr>\n",
       "  </tbody>\n",
       "</table>\n",
       "</div>"
      ],
      "text/plain": [
       "   start  stop  event        age      year  surgery  transplant  id\n",
       "0    0.0  50.0      1 -17.155373  0.123203        0           0   1\n",
       "1    0.0   6.0      1   3.835729  0.254620        0           0   2\n",
       "2    0.0   1.0      0   6.297057  0.265572        0           0   3\n",
       "3    1.0  16.0      1   6.297057  0.265572        0           1   3\n",
       "4    0.0  36.0      0  -7.737166  0.490075        0           0   4"
      ]
     },
     "execution_count": 12,
     "metadata": {},
     "output_type": "execute_result"
    }
   ],
   "source": [
    "import lifelines\n",
    "\n",
    "df = lifelines.datasets.load_stanford_heart_transplants()\n",
    "df.head(5)"
   ]
  },
  {
   "cell_type": "markdown",
   "metadata": {},
   "source": [
    "The dataset contains the following:\n",
    "\n",
    "- `start`: entry time,\n",
    "- `stop`: exit time,\n",
    "- `event`: status for this interval of time,\n",
    "- `age`: subjetct's age -48 years,\n",
    "- `year`: tyear of acceptance (in years after 1 Nov 1967)\n",
    "- `surgery`: prior bypass surgery 1=yes\n",
    "- `transplant`: received transplant 1=yes\n",
    "- `id`: patient id"
   ]
  },
  {
   "cell_type": "code",
   "execution_count": 6,
   "metadata": {},
   "outputs": [],
   "source": [
    "from lifelines.utils import to_long_format, add_covariate_to_timeline\n",
    "\n",
    "base_df = pd.DataFrame([\n",
    "  {'id': 1, 'duration': 10, 'event': True, 'var1': 0.1},\n",
    "  {'id': 2, 'duration': 12, 'event': True, 'var1': 0.5}\n",
    "])\n",
    "\n",
    "base_df = to_long_format(base_df, duration_col=\"duration\")"
   ]
  },
  {
   "cell_type": "code",
   "execution_count": null,
   "metadata": {},
   "outputs": [],
   "source": [
    "# Constant parameters accross models\n",
    "# Detect available accelerator; Downgrade batch size if only CPU available\n",
    "if any([torch.cuda.is_available(), torch.backends.mps.is_available()]):\n",
    "    print(\"CUDA-enabled GPU/TPU is available.\")\n",
    "    BATCH_SIZE = 128  # batch size for training\n",
    "else:\n",
    "    print(\"No CUDA-enabled GPU found, using CPU.\")\n",
    "    BATCH_SIZE = 32  # batch size for training\n",
    "\n",
    "EPOCHS = 100\n",
    "LEARNING_RATE = 1e-2"
   ]
  },
  {
   "cell_type": "code",
   "execution_count": null,
   "metadata": {},
   "outputs": [],
   "source": [
    "df_onehot = pd.get_dummies(df, columns=[\"horTh\", \"menostat\", \"tgrade\"]).astype(\"float\")\n",
    "df_onehot.drop(\n",
    "    [\"horTh_no\", \"menostat_Post\", \"tgrade_I\"],\n",
    "    axis=1,\n",
    "    inplace=True,\n",
    ")\n",
    "df_onehot.head(5)"
   ]
  },
  {
   "cell_type": "code",
   "execution_count": null,
   "metadata": {},
   "outputs": [],
   "source": [
    "df_train, df_test = train_test_split(df_onehot, test_size=0.3)\n",
    "df_train, df_val = train_test_split(df_train, test_size=0.3)\n",
    "print(\n",
    "    f\"(Sample size) Training:{len(df_train)} | Validation:{len(df_val)} |Testing:{len(df_test)}\"\n",
    ")"
   ]
  },
  {
   "cell_type": "code",
   "execution_count": null,
   "metadata": {},
   "outputs": [],
   "source": [
    "# Dataloader\n",
    "dataloader_train = DataLoader(\n",
    "    Custom_dataset(df_train), batch_size=BATCH_SIZE, shuffle=True\n",
    ")\n",
    "dataloader_val = DataLoader(\n",
    "    Custom_dataset(df_val), batch_size=len(df_val), shuffle=False\n",
    ")\n",
    "dataloader_test = DataLoader(\n",
    "    Custom_dataset(df_test), batch_size=len(df_test), shuffle=False\n",
    ")"
   ]
  },
  {
   "cell_type": "code",
   "execution_count": null,
   "metadata": {},
   "outputs": [],
   "source": [
    "cox_model = torch.nn.Sequential(\n",
    "    torch.nn.BatchNorm1d(num_features),  # Batch normalization\n",
    "    torch.nn.Linear(num_features, 32),\n",
    "    torch.nn.ReLU(),\n",
    "    torch.nn.Dropout(),\n",
    "    torch.nn.Linear(32, 64),\n",
    "    torch.nn.ReLU(),\n",
    "    torch.nn.Dropout(),\n",
    "    torch.nn.Linear(64, 1),  # Estimating log hazards for Cox models\n",
    ")"
   ]
  },
  {
   "cell_type": "code",
   "execution_count": null,
   "metadata": {},
   "outputs": [],
   "source": [
    "# This is for testing the loss function\n",
    "x_test, (test_event, test_time) = next(iter(dataloader_train))\n",
    "\n",
    "log_hz = cox_model(x_test)"
   ]
  },
  {
   "cell_type": "code",
   "execution_count": null,
   "metadata": {},
   "outputs": [
    {
     "data": {
      "text/plain": [
       "tensor([1.3927, 1.5773, 0.0192, 0.1983])"
      ]
     },
     "execution_count": 34,
     "metadata": {},
     "output_type": "execute_result"
    }
   ],
   "source": [
    "print('x_test', x_test.shape)\n",
    "print('events', test_event.shape)\n",
    "print('times', test_time.shape)\n",
    "\n",
    "time_sorted, idx = torch.sort(time)\n",
    "log_hz_sorted = log_hz[idx]\n",
    "event_sorted = event[idx]\n",
    "time_unique = torch.unique(time_sorted)\n",
    "print('')\n",
    "print(\"time_sorted\", time_sorted.shape)\n",
    "print('log_hz_sorted', log_hz_sorted.shape)\n",
    "print('event_sorted', event_sorted.shape)\n",
    "print(\"time_unique\", time_unique.shape)\n",
    "\n",
    "print('-'*30)\n",
    "cov_fake = torch.clone(x_test)\n",
    "print('covariates', cov_fake.shape)\n",
    "covariates_sorted = cov_fake[idx, :]\n",
    "covariate_inner_product = torch.matmul(covariates_sorted, covariates_sorted.T)\n",
    "print('cov_inner', covariate_inner_product.shape)\n",
    "log_nominator_left = torch.matmul(log_hz_sorted.T, covariate_inner_product)\n",
    "print('log_nom_left', log_nominator_left.shape)\n",
    "bracket = torch.mul(log_hz_sorted, covariates_sorted)\n",
    "print('bracket', bracket.shape)\n",
    "log_nominator_right = torch.matmul(bracket, bracket.T)\n",
    "print('log_nom_right', log_nominator_right.shape)\n",
    "sum_nominator_right = log_nominator_right[0,].unsqueeze(0)\n",
    "print('sum_nom', sum_nominator_right.shape)\n",
    "log_denominator = torch.logcumsumexp(log_hz_sorted.flip(0), dim=0).flip(0).T\n",
    "print('log_denom', log_denominator.shape)\n",
    "last_bit = torch.div(log_nominator_left - sum_nominator_right, log_denominator)\n",
    "print('last_bit', last_bit.shape)\n",
    "last_bit\n"
   ]
  },
  {
   "cell_type": "markdown",
   "metadata": {},
   "source": [
    "## RNN Example from Github"
   ]
  },
  {
   "cell_type": "code",
   "execution_count": null,
   "metadata": {},
   "outputs": [],
   "source": [
    "import torch\n",
    "from torchsurv.loss import cox\n",
    "from torchsurv.metrics.cindex import ConcordanceIndex\n",
    "\n",
    "# Parameters\n",
    "input_size = 10\n",
    "output_size = 1\n",
    "num_layers = 2\n",
    "seq_length = 5\n",
    "batch_size = 8\n",
    "\n",
    "# make random boolean events\n",
    "events = torch.rand(batch_size) > 0.5\n",
    "print(events)  # tensor([ True, False,  True,  True, False, False,  True, False])\n",
    "\n",
    "# make random positive time to event\n",
    "time = torch.rand(batch_size) * 100\n",
    "print(time)  # tensor([32.8563, 38.3207, 24.6015, 72.2986, 19.9004, 65.2180, 73.2083, 21.2663])\n",
    "\n",
    "# Create simple RNN model\n",
    "rnn = torch.nn.RNN(input_size, output_size, num_layers)\n",
    "inputs = torch.randn(seq_length, batch_size, input_size)\n",
    "h0 = torch.randn(num_layers, batch_size, output_size)\n",
    "\n",
    "# Forward pass time series input\n",
    "outputs, _ = rnn(inputs, h0)\n",
    "estimates = outputs[-1]  # Keep only last predictions, many to one approach\n",
    "print(estimates.size())  # torch.Size([8, 1])\n",
    "print(f\"Estimate shape for {batch_size} samples = {estimates.size()}\")  # Estimate shape for 8 samples = torch.Size([8, 1])\n",
    "\n",
    "\n",
    "loss = cox.neg_partial_log_likelihood(estimates, events, time)\n",
    "print(f\"loss = {loss}, has gradient = {loss.requires_grad}\")  # loss = 1.0389232635498047, has gradient = True\n",
    "\n",
    "cindex = ConcordanceIndex()\n",
    "print(f\"c-index = {cindex(estimates, events, time)}\")  # c-index = 0.20000000298023224"
   ]
  }
 ],
 "metadata": {
  "kernelspec": {
   "display_name": "conda-env2",
   "language": "python",
   "name": "python3"
  },
  "language_info": {
   "codemirror_mode": {
    "name": "ipython",
    "version": 3
   },
   "file_extension": ".py",
   "mimetype": "text/x-python",
   "name": "python",
   "nbconvert_exporter": "python",
   "pygments_lexer": "ipython3",
   "version": "3.10.15"
  }
 },
 "nbformat": 4,
 "nbformat_minor": 2
}
